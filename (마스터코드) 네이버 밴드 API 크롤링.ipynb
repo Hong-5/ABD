{
 "cells": [
  {
   "cell_type": "markdown",
   "metadata": {},
   "source": [
    "# 방향\n",
    " - dict로 after값을 계속 저장해서 유지하기 --> 이러면 추후에 앞번 것을 가져올 필요가 없음"
   ]
  },
  {
   "cell_type": "code",
   "execution_count": 12,
   "metadata": {},
   "outputs": [],
   "source": [
    "import datetime\n",
    "import requests\n",
    "import json\n",
    "import pandas as pd\n",
    "import time"
   ]
  },
  {
   "cell_type": "code",
   "execution_count": 14,
   "metadata": {},
   "outputs": [],
   "source": [
    "after_df = pd.read_excel('산악투어_API_after.xlsx')\n",
    "\n",
    "access_token = ''\n",
    "band_key = ''\n",
    "locale = 'ko-KR'\n",
    "headers = {'X-Naver-Client-Id':'', 'X-naver-Client-secret':''}\n",
    "\n",
    "\n",
    "call_count = after_df.shape[0] - 1 # 처음시작 시 call_count는 1을 넣어라.\n",
    "after = after_df['after값'].tolist()[-1]"
   ]
  },
  {
   "cell_type": "code",
   "execution_count": 15,
   "metadata": {
    "scrolled": true
   },
   "outputs": [
    {
     "name": "stdout",
     "output_type": "stream",
     "text": [
      "100개 데이터 수집 완료 == 경과시간: 1초\n",
      "200개 데이터 수집 완료 == 경과시간: 4초\n",
      "300개 데이터 수집 완료 == 경과시간: 7초\n",
      "400개 데이터 수집 완료 == 경과시간: 10초\n",
      "500개 데이터 수집 완료 == 경과시간: 12초\n",
      "600개 데이터 수집 완료 == 경과시간: 15초\n",
      "700개 데이터 수집 완료 == 경과시간: 18초\n",
      "800개 데이터 수집 완료 == 경과시간: 20초\n",
      "900개 데이터 수집 완료 == 경과시간: 23초\n",
      "1000개 데이터 수집 완료 == 경과시간: 26초\n",
      "1100개 데이터 수집 완료 == 경과시간: 28초\n",
      "1200개 데이터 수집 완료 == 경과시간: 31초\n",
      "1300개 데이터 수집 완료 == 경과시간: 33초\n",
      "1400개 데이터 수집 완료 == 경과시간: 36초\n",
      "1500개 데이터 수집 완료 == 경과시간: 39초\n",
      "1600개 데이터 수집 완료 == 경과시간: 41초\n",
      "1700개 데이터 수집 완료 == 경과시간: 44초\n",
      "1800개 데이터 수집 완료 == 경과시간: 47초\n",
      "1900개 데이터 수집 완료 == 경과시간: 49초\n",
      "2000개 데이터 수집 완료 == 경과시간: 52초\n",
      "2000개 데이터 수집 완료 == 10초 휴식!!\n",
      "2100개 데이터 수집 완료 == 경과시간: 65초\n",
      "2200개 데이터 수집 완료 == 경과시간: 68초\n",
      "2300개 데이터 수집 완료 == 경과시간: 71초\n",
      "2400개 데이터 수집 완료 == 경과시간: 73초\n",
      "2500개 데이터 수집 완료 == 경과시간: 76초\n",
      "2600개 데이터 수집 완료 == 경과시간: 79초\n",
      "2700개 데이터 수집 완료 == 경과시간: 81초\n",
      "2800개 데이터 수집 완료 == 경과시간: 84초\n",
      "2900개 데이터 수집 완료 == 경과시간: 86초\n",
      "3000개 데이터 수집 완료 == 경과시간: 89초\n",
      "3100개 데이터 수집 완료 == 경과시간: 92초\n",
      "3200개 데이터 수집 완료 == 경과시간: 94초\n",
      "3300개 데이터 수집 완료 == 경과시간: 97초\n",
      "3400개 데이터 수집 완료 == 경과시간: 100초\n",
      "3500개 데이터 수집 완료 == 경과시간: 102초\n",
      "3600개 데이터 수집 완료 == 경과시간: 105초\n",
      "3700개 데이터 수집 완료 == 경과시간: 108초\n",
      "3800개 데이터 수집 완료 == 경과시간: 110초\n",
      "3900개 데이터 수집 완료 == 경과시간: 113초\n",
      "4000개 데이터 수집 완료 == 경과시간: 115초\n",
      "4000개 데이터 수집 완료 == 10초 휴식!!\n",
      "4100개 데이터 수집 완료 == 경과시간: 128초\n",
      "4200개 데이터 수집 완료 == 경과시간: 130초\n",
      "4300개 데이터 수집 완료 == 경과시간: 132초\n",
      "4400개 데이터 수집 완료 == 경과시간: 135초\n",
      "4500개 데이터 수집 완료 == 경과시간: 137초\n",
      "4600개 데이터 수집 완료 == 경과시간: 140초\n",
      "4700개 데이터 수집 완료 == 경과시간: 142초\n",
      "4800개 데이터 수집 완료 == 경과시간: 145초\n",
      "4900개 데이터 수집 완료 == 경과시간: 147초\n",
      "5000개 데이터 수집 완료 == 경과시간: 150초\n",
      "5100개 데이터 수집 완료 == 경과시간: 152초\n",
      "5200개 데이터 수집 완료 == 경과시간: 155초\n",
      "5300개 데이터 수집 완료 == 경과시간: 157초\n",
      "5400개 데이터 수집 완료 == 경과시간: 160초\n",
      "5500개 데이터 수집 완료 == 경과시간: 162초\n",
      "5600개 데이터 수집 완료 == 경과시간: 165초\n",
      "5700개 데이터 수집 완료 == 경과시간: 167초\n",
      "5800개 데이터 수집 완료 == 경과시간: 170초\n",
      "5900개 데이터 수집 완료 == 경과시간: 172초\n",
      "6000개 데이터 수집 완료 == 경과시간: 175초\n",
      "6000개 데이터 수집 완료 == 10초 휴식!!\n",
      "6100개 데이터 수집 완료 == 경과시간: 188초\n",
      "6200개 데이터 수집 완료 == 경과시간: 190초\n",
      "6300개 데이터 수집 완료 == 경과시간: 193초\n",
      "6400개 데이터 수집 완료 == 경과시간: 196초\n",
      "6500개 데이터 수집 완료 == 경과시간: 198초\n"
     ]
    },
    {
     "ename": "TypeError",
     "evalue": "'NoneType' object is not subscriptable",
     "output_type": "error",
     "traceback": [
      "\u001b[1;31m---------------------------------------------------------------------------\u001b[0m",
      "\u001b[1;31mTypeError\u001b[0m                                 Traceback (most recent call last)",
      "\u001b[1;32m<ipython-input-15-9db47b3c0aa1>\u001b[0m in \u001b[0;36m<module>\u001b[1;34m\u001b[0m\n\u001b[0;32m     24\u001b[0m \u001b[1;33m\u001b[0m\u001b[0m\n\u001b[0;32m     25\u001b[0m     \u001b[1;31m# after 파라미터 정의 --> 마지막은 어떻게 나올지 확인해볼 것\u001b[0m\u001b[1;33m\u001b[0m\u001b[1;33m\u001b[0m\u001b[1;33m\u001b[0m\u001b[0m\n\u001b[1;32m---> 26\u001b[1;33m     \u001b[0mafter\u001b[0m \u001b[1;33m=\u001b[0m \u001b[0mr_json\u001b[0m\u001b[1;33m[\u001b[0m\u001b[1;34m'result_data'\u001b[0m\u001b[1;33m]\u001b[0m\u001b[1;33m[\u001b[0m\u001b[1;34m'paging'\u001b[0m\u001b[1;33m]\u001b[0m\u001b[1;33m[\u001b[0m\u001b[1;34m'next_params'\u001b[0m\u001b[1;33m]\u001b[0m\u001b[1;33m[\u001b[0m\u001b[1;34m'after'\u001b[0m\u001b[1;33m]\u001b[0m\u001b[1;33m\u001b[0m\u001b[1;33m\u001b[0m\u001b[0m\n\u001b[0m\u001b[0;32m     27\u001b[0m     \u001b[0mafter_dict\u001b[0m\u001b[1;33m[\u001b[0m\u001b[0mcall_count\u001b[0m\u001b[1;33m*\u001b[0m\u001b[1;36m20\u001b[0m\u001b[1;33m]\u001b[0m \u001b[1;33m=\u001b[0m \u001b[0mafter\u001b[0m\u001b[1;33m\u001b[0m\u001b[1;33m\u001b[0m\u001b[0m\n\u001b[0;32m     28\u001b[0m \u001b[1;33m\u001b[0m\u001b[0m\n",
      "\u001b[1;31mTypeError\u001b[0m: 'NoneType' object is not subscriptable"
     ]
    }
   ],
   "source": [
    "df = pd.DataFrame()\n",
    "t1 = time.time()\n",
    "after_dict = {}\n",
    "\n",
    "\n",
    "\n",
    "while True:\n",
    "    \n",
    "    # url 불러오기\n",
    "    if call_count == 1:\n",
    "        url = f'https://openapi.band.us/v2/band/posts.json?access_token={access_token}&band_key={band_key}&locale={locale}'\n",
    "        r = requests.get(url, headers=headers, timeout = 10)\n",
    "        r_json = json.loads(r.text)\n",
    "        \n",
    "        \n",
    "    else:\n",
    "        url = f'https://openapi.band.us/v2/band/posts.json?access_token={access_token}&band_key={band_key}&locale={locale}&after={after}'\n",
    "        r = requests.get(url, headers=headers, timeout = 10)\n",
    "        r_json = json.loads(r.text)\n",
    "        \n",
    "    # 사용횟수 초과 여부 확인\n",
    "    if r_json['result_code'] == 1001:\n",
    "        print('오늘 사용횟수를 초과하였습니다.')\n",
    "        break\n",
    "        \n",
    "    # after 파라미터 정의 및 stopping조건 정의\n",
    "    if r_json['result_data']['paging']['next_params'] == None:\n",
    "        print('다음 after 파라미터가 존재하지 않습니다. == 종료')\n",
    "        break\n",
    "    \n",
    "    after = r_json['result_data']['paging']['next_params']['after']\n",
    "    after_dict[call_count*20] = after\n",
    "        \n",
    "    # 데이터 수집\n",
    "    writers = [r_json['result_data']['items'][idx]['author']['name'] for idx in range(20)]\n",
    "    contents = [r_json['result_data']['items'][idx]['content'] for idx in range(20)]\n",
    "    dates = [datetime.datetime.fromtimestamp(round(r_json['result_data']['items'][idx]['created_at']/1000)).strftime('%Y-%m-%d %H:%M:%S') for idx in range(20)]\n",
    "    comment_counts = [r_json['result_data']['items'][idx]['comment_count'] for idx in range(20)]\n",
    "    emotion_counts = [r_json['result_data']['items'][idx]['emotion_count'] for idx in range(20)]\n",
    "    \n",
    "    # 데이터 프레임에 추가\n",
    "    tmp = pd.DataFrame({'작성자':writers,\n",
    "                         '일자':dates,\n",
    "                         '댓글개수':comment_counts,\n",
    "                         '감정표현개수':emotion_counts,\n",
    "                         '내용':contents})\n",
    "    \n",
    "    df = df.append(tmp, ignore_index=True)    \n",
    "    \n",
    "    # log\n",
    "    if df.shape[0] % 100 == 0:\n",
    "        print(f'{df.shape[0]}개 데이터 수집 완료 == 경과시간: {round(time.time()-t1)}초')\n",
    "        time.sleep(1)\n",
    "    \n",
    "    # log2\n",
    "    if df.shape[0] % 2000 == 0:\n",
    "        print(f'{df.shape[0]}개 데이터 수집 완료 == 10초 휴식!!')\n",
    "        time.sleep(10)\n",
    "    \n",
    "    # call_count += 1\n",
    "    call_count += 1 "
   ]
  },
  {
   "cell_type": "code",
   "execution_count": 17,
   "metadata": {},
   "outputs": [],
   "source": [
    "pd.DataFrame(after_dict.items(), columns = ['마지막개수','after값']).to_excel('../output/산악투어_API_after2.xlsx', index=False)"
   ]
  }
 ],
 "metadata": {
  "kernelspec": {
   "display_name": "Python 3.9.0 64-bit",
   "language": "python",
   "name": "python3"
  },
  "language_info": {
   "codemirror_mode": {
    "name": "ipython",
    "version": 3
   },
   "file_extension": ".py",
   "mimetype": "text/x-python",
   "name": "python",
   "nbconvert_exporter": "python",
   "pygments_lexer": "ipython3",
   "version": "3.9.0"
  },
  "vscode": {
   "interpreter": {
    "hash": "aee8b7b246df8f9039afb4144a1f6fd8d2ca17a180786b69acc140d282b71a49"
   }
  }
 },
 "nbformat": 4,
 "nbformat_minor": 4
}
